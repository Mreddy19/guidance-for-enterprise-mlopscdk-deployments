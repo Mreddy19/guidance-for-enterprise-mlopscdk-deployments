{
 "cells": [
  {
   "attachments": {},
   "cell_type": "markdown",
   "id": "ec004414",
   "metadata": {},
   "source": [
    "# Model Monitoring\n",
    "\n",
    "## Workflow\n",
    "\n",
    "Make sure to log into AWS Console with the Data Science User role to perform the steps below. Follow [AWS console](https://signin.aws.amazon.com/switchrole) link to assume the Data Science Admin role. The role has been created for you during the MLOps platform deployment. The role name has the following pattern:  **region-datascientist-account_id**. You might find it helpful to first navigate to IAM in AWS Console in order to retrieve the role name and then assume it using [AWS console](https://signin.aws.amazon.com/switchrole) link.\n",
    "\n",
    "The MLOps platform provides the following types of monitoring via [Amazon SageMaker\n",
    "Model Monitor](https://docs.aws.amazon.com/sagemaker/latest/dg/model-monitor.html):\n",
    "\n",
    "- **Monitor data quality** - Monitor drift in data quality.\n",
    "- **Monitor model quality** - Monitor drift in model quality metrics, such as accuracy.\n",
    "- **Monitor Bias Drift for Models in Production** - Monitor bias in you model's predictions.\n",
    "- **Monitor Feature Attribution Drift for Models in Production** - Monitor drift in feature attribution.\n",
    "\n",
    "The reports generated from these types of monitoring tasks can be viewed via\n",
    "SageMaker Studio.\n",
    "\n",
    "1. In SageMaker Studio, open the `3_monitoring.ipynb` notebook and select\n",
    "Run -> Run All Cells. This will generate simulated requests to the prod\n",
    "endpoint that was deployed in the preceding use-cases, which will cause the\n",
    "scheduled monitoring tasks to detect drifts in data quality, model quality,\n",
    "model bias, and feature attribution.\n",
    "\n",
    "2. Note, the `3_monitoring.ipynb` notebook make take up to an hour to run,\n",
    "depending on the running schedules of each deployed monitor.\n"
   ]
  }
 ],
 "metadata": {
  "kernelspec": {
   "display_name": "Python 3",
   "language": "python",
   "name": "python3"
  },
  "language_info": {
   "codemirror_mode": {
    "name": "ipython",
    "version": 3
   },
   "file_extension": ".py",
   "mimetype": "text/x-python",
   "name": "python",
   "nbconvert_exporter": "python",
   "pygments_lexer": "ipython3",
   "version": "3.8.1 (v3.8.1:1b293b6006, Dec 18 2019, 14:08:53) \n[Clang 6.0 (clang-600.0.57)]"
  },
  "toc": {
   "base_numbering": 1,
   "nav_menu": {},
   "number_sections": true,
   "sideBar": true,
   "skip_h1_title": false,
   "title_cell": "Table of Contents",
   "title_sidebar": "Contents",
   "toc_cell": false,
   "toc_position": {},
   "toc_section_display": true,
   "toc_window_display": false
  },
  "vscode": {
   "interpreter": {
    "hash": "082e9a3bcad0a290d0001e938aa60b99250c6c2ef33a923c00b70f9826caf4b7"
   }
  }
 },
 "nbformat": 4,
 "nbformat_minor": 5
}
