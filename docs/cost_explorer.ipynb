{
 "cells": [
  {
   "attachments": {},
   "cell_type": "markdown",
   "id": "dddf4a28",
   "metadata": {},
   "source": [
    "## Cost Explorer\n",
    "\n",
    "Each data science project and its resources are labeled with the `CostCenter` tag. The value of the tag is entered by the Data Science Admin during project creation stage in SageMaker Studio. Tags allow to organize the resources and [track AWS costs](https://docs.aws.amazon.com/awsaccountbilling/latest/aboutv2/cost-alloc-tags.html) on a detailed level. In order to see the costs associated with the project, one needs to activate the cost allocation tags. This section describes how to activate the cost allocation tags, enable the cost explorer and track costs daily by service using [boto3 for Cost Explorer](https://boto3.amazonaws.com/v1/documentation/api/latest/reference/services/ce.html).\n",
    "\n",
    "To perform these steps log into AWS Console with the Full Stack Developer role. Follow the [AWS console](https://signin.aws.amazon.com/switchrole) link to assume the Full Stack Developer role. The role has been created for you during the deployment. The role name has the following pattern:  **region-full-stack-developer-account_id**. You might find it helpful to first navigate to IAM in AWS Console in order to retrieve the role name and assume it using [AWS console](https://signin.aws.amazon.com/switchrole) link.\n",
    "\n",
    "\n",
    "### How to Enable Cost Allocation Tags\n",
    "\n",
    "Please note, that it takes 24 hours before the tags are activated.\n",
    "\n",
    "1. Click on your account name in the upper right corner and then click on `Billing Dashboard`. On the left hand panel under `Billing` click on `Cost allocation tags`. \n",
    "\n",
    "![billing_dashboard](images/cost_explorer/billing_dashboard.png)\n",
    "\n",
    "2. Under `User-Defined Cost Allocation Tags` section, select your tags and click the `Activate` button.\n",
    "\n",
    "![cost_allocation_tag](images/cost_explorer/cost_allocation_tag.png)"
   ]
  },
  {
   "attachments": {},
   "cell_type": "markdown",
   "id": "f2f4d0e3",
   "metadata": {},
   "source": [
    "### How to Enable Cost Explorer \n",
    "\n",
    "1. Open [AWS Cost Management console](https://console.aws.amazon.com/cost-management/home).\n",
    "\n",
    "2. On the left side panel choose `Cost Explorer`.\n",
    "\n",
    "3. On the `Welcome to Cost Explorer` page, choose `Launch Cost Explorer`.\n",
    "\n",
    "4. **Wait for 24 hours.**\n",
    "\n",
    "5. Explore costs associated with different `Tags` in the AWS Console\n",
    "\n",
    "![cost_explorer](images/cost_explorer/cost_explorer_tag.png)"
   ]
  },
  {
   "attachments": {},
   "cell_type": "markdown",
   "id": "55de99d1",
   "metadata": {},
   "source": [
    "### Boto3 SDK\n",
    "\n",
    "In this section we will demonstrate how to retrieve the costs by service using [boto3](https://boto3.amazonaws.com/v1/documentation/api/latest/reference/services/ce.html) and visualize them as bar plot using [matplotlib library](https://matplotlib.org/).\n",
    "\n",
    "Load the Python modules and call boto3 client for the cost explorer."
   ]
  },
  {
   "cell_type": "code",
   "execution_count": 1,
   "id": "3c7a1066",
   "metadata": {
    "ExecuteTime": {
     "end_time": "2022-06-07T02:30:34.412578Z",
     "start_time": "2022-06-07T02:30:33.249876Z"
    }
   },
   "outputs": [],
   "source": [
    "import boto3\n",
    "import datetime\n",
    "\n",
    "client = boto3.client(\"ce\")"
   ]
  },
  {
   "attachments": {},
   "cell_type": "markdown",
   "id": "a51f3d57",
   "metadata": {},
   "source": [
    "Define the time period for which you want to retrieve the costs."
   ]
  },
  {
   "cell_type": "code",
   "execution_count": 2,
   "id": "65b7226e",
   "metadata": {
    "ExecuteTime": {
     "end_time": "2022-06-07T02:30:34.426834Z",
     "start_time": "2022-06-07T02:30:34.420175Z"
    }
   },
   "outputs": [],
   "source": [
    "start, end = \"2022-05-27\", \"2022-06-06\""
   ]
  },
  {
   "attachments": {},
   "cell_type": "markdown",
   "id": "091a42b2",
   "metadata": {},
   "source": [
    "Retrieve the cost and usage, filter by the user-defined cost allocation tags. Here we obtain daily results."
   ]
  },
  {
   "cell_type": "code",
   "execution_count": 3,
   "id": "162d91af",
   "metadata": {
    "ExecuteTime": {
     "end_time": "2022-06-07T02:30:36.050828Z",
     "start_time": "2022-06-07T02:30:34.674966Z"
    },
    "scrolled": true
   },
   "outputs": [],
   "source": [
    "response = client.get_cost_and_usage(\n",
    "    TimePeriod={\"Start\": start, \"End\": end},\n",
    "    Granularity=\"DAILY\",\n",
    "    Filter={\n",
    "        \"Tags\": {\n",
    "            \"Key\": \"CostCenter\",\n",
    "            \"Values\": [\"12345\"],\n",
    "        },\n",
    "        \"Tags\": {\n",
    "            \"Key\": \"sagemaker:project-name\",\n",
    "            \"Values\": [\"again-mlops\"],\n",
    "        },\n",
    "    },\n",
    "    Metrics=[\"AmortizedCost\"],\n",
    "    GroupBy=[\n",
    "        {\"Type\": \"DIMENSION\", \"Key\": \"SERVICE\"},\n",
    "    ],\n",
    ")"
   ]
  },
  {
   "attachments": {},
   "cell_type": "markdown",
   "id": "2cbd2dcc",
   "metadata": {},
   "source": [
    "Process the `response` to prepare the data for visualization."
   ]
  },
  {
   "cell_type": "code",
   "execution_count": 4,
   "id": "d1f93a7e",
   "metadata": {
    "ExecuteTime": {
     "end_time": "2022-06-07T02:30:36.910358Z",
     "start_time": "2022-06-07T02:30:36.893292Z"
    },
    "scrolled": true
   },
   "outputs": [
    {
     "data": {
      "text/plain": [
       "[{'timestamp': '2022-05-27'},\n",
       " {'timestamp': '2022-05-28'},\n",
       " {'timestamp': '2022-05-29'},\n",
       " {'timestamp': '2022-05-30'},\n",
       " {'timestamp': '2022-05-31'},\n",
       " {'timestamp': '2022-06-01'},\n",
       " {'timestamp': '2022-06-02'},\n",
       " {'timestamp': '2022-06-03',\n",
       "  'AWS Key Management Service': 0.0305555558,\n",
       "  'Amazon Simple Storage Service': 0.0002321948},\n",
       " {'timestamp': '2022-06-04',\n",
       "  'AWS Key Management Service': 0.0333333336,\n",
       "  'Amazon Simple Storage Service': 4.5992e-06},\n",
       " {'timestamp': '2022-06-05',\n",
       "  'AWS Key Management Service': 0.0333333336,\n",
       "  'Amazon Simple Storage Service': 4.5992e-06}]"
      ]
     },
     "execution_count": 4,
     "metadata": {},
     "output_type": "execute_result"
    }
   ],
   "source": [
    "cost_explorer = []\n",
    "timestamps = []\n",
    "for time in response[\"ResultsByTime\"]:\n",
    "    log = {}\n",
    "    timestamp = time[\"TimePeriod\"][\"Start\"]\n",
    "    log[\"timestamp\"] = timestamp\n",
    "    for json_key in time[\"Groups\"]:\n",
    "        service, cost = (\n",
    "            json_key[\"Keys\"][0],\n",
    "            float(json_key[\"Metrics\"][\"AmortizedCost\"][\"Amount\"]),\n",
    "        )\n",
    "        log[service] = cost\n",
    "    cost_explorer.append(log)\n",
    "    timestamps.append(timestamp)\n",
    "cost_explorer"
   ]
  },
  {
   "cell_type": "code",
   "execution_count": 5,
   "id": "34da604d",
   "metadata": {
    "ExecuteTime": {
     "end_time": "2022-06-07T02:30:40.600370Z",
     "start_time": "2022-06-07T02:30:37.289620Z"
    },
    "scrolled": false
   },
   "outputs": [
    {
     "data": {
      "image/png": "[encoded data removed]",
      "text/plain": [
       "<Figure size 432x288 with 1 Axes>"
      ]
     },
     "metadata": {
      "needs_background": "light"
     },
     "output_type": "display_data"
    }
   ],
   "source": [
    "import pandas as pd\n",
    "\n",
    "pd.DataFrame(cost_explorer, index=timestamps).drop(\"timestamp\", axis=1).fillna(\n",
    "    value=0\n",
    ").plot(kind=\"bar\", stacked=True);"
   ]
  }
 ],
 "metadata": {
  "kernelspec": {
   "display_name": "Python 3",
   "language": "python",
   "name": "python3"
  },
  "language_info": {
   "codemirror_mode": {
    "name": "ipython",
    "version": 3
   },
   "file_extension": ".py",
   "mimetype": "text/x-python",
   "name": "python",
   "nbconvert_exporter": "python",
   "pygments_lexer": "ipython3",
   "version": "3.8.1 (v3.8.1:1b293b6006, Dec 18 2019, 14:08:53) \n[Clang 6.0 (clang-600.0.57)]"
  },
  "toc": {
   "base_numbering": 1,
   "nav_menu": {},
   "number_sections": true,
   "sideBar": true,
   "skip_h1_title": false,
   "title_cell": "Table of Contents",
   "title_sidebar": "Contents",
   "toc_cell": false,
   "toc_position": {},
   "toc_section_display": true,
   "toc_window_display": false
  },
  "vscode": {
   "interpreter": {
    "hash": "082e9a3bcad0a290d0001e938aa60b99250c6c2ef33a923c00b70f9826caf4b7"
   }
  }
 },
 "nbformat": 4,
 "nbformat_minor": 5
}
